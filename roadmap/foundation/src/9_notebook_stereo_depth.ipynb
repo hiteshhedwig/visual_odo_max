{
 "cells": [
  {
   "cell_type": "code",
   "execution_count": 21,
   "metadata": {},
   "outputs": [],
   "source": [
    "import numpy as np\n",
    "import cv2\n",
    "import re\n",
    "import imageio"
   ]
  },
  {
   "attachments": {},
   "cell_type": "markdown",
   "metadata": {},
   "source": [
    "## Visualization\n",
    "\n",
    "Before diving into algorithms, visualize the stereo image pairs using tools like OpenCV or matplotlib in Python. This will give you a sense of the scene and disparities.\n",
    "Display the ground truth disparity maps alongside the images to understand the depth information"
   ]
  },
  {
   "cell_type": "code",
   "execution_count": 16,
   "metadata": {},
   "outputs": [],
   "source": [
    "DISP_0 = \"/home/hedwig/heetez/learning/3dcomputer_vision/visual_odo/roadmap/foundation/assets/stereo_data/artroom1/disp0.pfm\"\n",
    "DISP_1 = \"/home/hedwig/heetez/learning/3dcomputer_vision/visual_odo/roadmap/foundation/assets/stereo_data/artroom1/disp1.pfm\""
   ]
  },
  {
   "cell_type": "code",
   "execution_count": 24,
   "metadata": {},
   "outputs": [
    {
     "name": "stdout",
     "output_type": "stream",
     "text": [
      "(1080, 1920)\n",
      "0.003922\n"
     ]
    }
   ],
   "source": [
    "## THANKS TO CHATGPT\n",
    "\n",
    "def load_pfm(file_path):\n",
    "    with open(file_path, 'rb') as file:\n",
    "        # Read header\n",
    "        color = None\n",
    "        width = None\n",
    "        height = None\n",
    "        scale = None\n",
    "        endian = None\n",
    "\n",
    "        header = file.readline().rstrip()\n",
    "        if header == b'PF':\n",
    "            color = True\n",
    "        elif header == b'Pf':\n",
    "            color = False\n",
    "        else:\n",
    "            raise Exception('Not a PFM file.')\n",
    "\n",
    "        dim_match = re.match(r'^(\\d+)\\s(\\d+)\\s$', file.readline().decode('utf-8'))\n",
    "        if dim_match:\n",
    "            width, height = map(int, dim_match.groups())\n",
    "        else:\n",
    "            raise Exception('Malformed PFM header.')\n",
    "\n",
    "        scale = float(file.readline().rstrip())\n",
    "        if scale < 0:  # little-endian\n",
    "            endian = '<'\n",
    "            scale = -scale\n",
    "        else:\n",
    "            endian = '>'  # big-endian\n",
    "\n",
    "        data = np.fromfile(file, endian + 'f')\n",
    "        shape = (height, width, 3) if color else (height, width)\n",
    "\n",
    "        return np.reshape(data, shape), scale\n",
    "\n",
    "# Example usage\n",
    "image, scale = load_pfm(DISP_0)\n",
    "print(image.shape)\n",
    "print(scale)"
   ]
  },
  {
   "cell_type": "code",
   "execution_count": null,
   "metadata": {},
   "outputs": [],
   "source": []
  }
 ],
 "metadata": {
  "kernelspec": {
   "display_name": "gpu_test",
   "language": "python",
   "name": "python3"
  },
  "language_info": {
   "codemirror_mode": {
    "name": "ipython",
    "version": 3
   },
   "file_extension": ".py",
   "mimetype": "text/x-python",
   "name": "python",
   "nbconvert_exporter": "python",
   "pygments_lexer": "ipython3",
   "version": "3.8.15"
  },
  "orig_nbformat": 4,
  "vscode": {
   "interpreter": {
    "hash": "b4c14cdca7c37de6faece2a8f230b877cd3626b5bb2fc338070ba3ea8f48cf9e"
   }
  }
 },
 "nbformat": 4,
 "nbformat_minor": 2
}
